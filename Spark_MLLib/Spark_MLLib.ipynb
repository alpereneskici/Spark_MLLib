{
 "cells": [
  {
   "cell_type": "code",
   "execution_count": 7,
   "id": "4a0283a5",
   "metadata": {},
   "outputs": [],
   "source": [
    "import findspark\n",
    "findspark.init('C:\\Spark\\spark-3.3.0-bin-hadoop3')"
   ]
  },
  {
   "cell_type": "code",
   "execution_count": 9,
   "id": "722b3f20",
   "metadata": {},
   "outputs": [],
   "source": [
    "from pyspark.ml import Pipeline\n",
    "from pyspark.ml.classification import LogisticRegression \n",
    "from pyspark.ml.feature import HashingTF, Tokenizer \n",
    "from pyspark.sql import SparkSession\n"
   ]
  },
  {
   "cell_type": "code",
   "execution_count": 10,
   "id": "f3c5bb19",
   "metadata": {},
   "outputs": [],
   "source": [
    "#Spark Örneği oluşturuyoruz\n",
    "spark = SparkSession.builder.appName('ilk ornek').getOrCreate()"
   ]
  },
  {
   "cell_type": "code",
   "execution_count": 12,
   "id": "a280b742",
   "metadata": {},
   "outputs": [],
   "source": [
    "#Eğitilmek üzere textler oluşturuyoruz SPARK a ait olan harflerin labeli 1 Hadoop a ait olan harflerin label ı 0\n",
    "training = spark.createDataFrame([\n",
    "    (0,\"s p a r k\", 1.0),\n",
    "    (1,\"h a d o o p\", 0.0),\n",
    "    (2,\"s p a\", 1.0),\n",
    "    (3,\"h a d \", 0.0),\n",
    "    (4,\"h p a\", 0.0)], [\"id\", \"text\", \"label\"])"
   ]
  },
  {
   "cell_type": "code",
   "execution_count": 13,
   "id": "4294843d",
   "metadata": {},
   "outputs": [],
   "source": [
    "\n",
    "tokenizer = Tokenizer(inputCol=\"text\", outputCol=\"words\")\n",
    "hashingTF = HashingTF(inputCol=tokenizer.getOutputCol(), outputCol=\"features\")\n",
    "lr = LogisticRegression(maxIter=10, regParam=0.01)\n",
    "pipeline=Pipeline(stages=[tokenizer,hashingTF,lr])"
   ]
  },
  {
   "cell_type": "code",
   "execution_count": 14,
   "id": "ecdbd7c5",
   "metadata": {},
   "outputs": [],
   "source": [
    "#Modeli eğitiroyruz\n",
    "model = pipeline.fit(training)"
   ]
  },
  {
   "cell_type": "code",
   "execution_count": 16,
   "id": "a46139ac",
   "metadata": {},
   "outputs": [],
   "source": [
    "#eğittiğimiz modeli test etmek için veri oluşturuyoruz\n",
    "test = spark.createDataFrame([\n",
    "    (5, \"s r k\"),\n",
    "    (6, \"h d p\"),\n",
    "    (7, \"s p\"),\n",
    "    (8, \"h o\"),\n",
    "    (9, \"h o d\"),\n",
    "    (10, \"p a\")], [\"id\",\"text\"])"
   ]
  },
  {
   "cell_type": "code",
   "execution_count": 17,
   "id": "652f6b0b",
   "metadata": {},
   "outputs": [
    {
     "name": "stdout",
     "output_type": "stream",
     "text": [
      "+---+-----+---------+--------------------+--------------------+--------------------+----------+\n",
      "| id| text|    words|            features|       rawPrediction|         probability|prediction|\n",
      "+---+-----+---------+--------------------+--------------------+--------------------+----------+\n",
      "|  5|s r k|[s, r, k]|(262144,[68693,21...|[-4.0988077254032...|[0.01632163058542...|       1.0|\n",
      "|  6|h d p|[h, d, p]|(262144,[89530,14...|[4.25764171988387...|[0.98604193931025...|       0.0|\n",
      "|  7|  s p|   [s, p]|(262144,[146929,2...|[-3.1656366921826...|[0.04047955108386...|       1.0|\n",
      "|  8|  h o|   [h, o]|(262144,[83580,20...|[4.37417068011714...|[0.98755816338157...|       0.0|\n",
      "|  9|h o d|[h, o, d]|(262144,[83580,89...|[5.30640236198333...|[0.99506473959738...|       0.0|\n",
      "| 10|  p a|   [p, a]|(262144,[107107,1...|[0.07988667291752...|[0.51996105360343...|       0.0|\n",
      "+---+-----+---------+--------------------+--------------------+--------------------+----------+\n",
      "\n"
     ]
    }
   ],
   "source": [
    "# SPARK a ait harfleri prediction değeri 1 Hadoop olanların 0 hem spark hem hadoop olanlar da 0 \n",
    "prediction = model.transform(test)\n",
    "prediction.show()"
   ]
  },
  {
   "cell_type": "code",
   "execution_count": null,
   "id": "3215ea48",
   "metadata": {},
   "outputs": [],
   "source": []
  }
 ],
 "metadata": {
  "kernelspec": {
   "display_name": "Python 3 (ipykernel)",
   "language": "python",
   "name": "python3"
  },
  "language_info": {
   "codemirror_mode": {
    "name": "ipython",
    "version": 3
   },
   "file_extension": ".py",
   "mimetype": "text/x-python",
   "name": "python",
   "nbconvert_exporter": "python",
   "pygments_lexer": "ipython3",
   "version": "3.9.12"
  }
 },
 "nbformat": 4,
 "nbformat_minor": 5
}
